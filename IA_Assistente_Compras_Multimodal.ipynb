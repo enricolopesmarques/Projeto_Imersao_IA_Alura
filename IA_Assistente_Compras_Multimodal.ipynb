{
  "nbformat": 4,
  "nbformat_minor": 0,
  "metadata": {
    "colab": {
      "provenance": [],
      "authorship_tag": "ABX9TyNKESol5wJhj5Cr9V+i4LJb",
      "include_colab_link": true
    },
    "kernelspec": {
      "name": "python3",
      "display_name": "Python 3"
    },
    "language_info": {
      "name": "python"
    },
    "widgets": {
      "application/vnd.jupyter.widget-state+json": {
        "bd7c34867865400b8d9d5c5a25239c15": {
          "model_module": "@jupyter-widgets/controls",
          "model_name": "IntSliderModel",
          "model_module_version": "1.5.0",
          "state": {
            "_dom_classes": [],
            "_model_module": "@jupyter-widgets/controls",
            "_model_module_version": "1.5.0",
            "_model_name": "IntSliderModel",
            "_view_count": null,
            "_view_module": "@jupyter-widgets/controls",
            "_view_module_version": "1.5.0",
            "_view_name": "IntSliderView",
            "continuous_update": true,
            "description": "Nº Pessoas:",
            "description_tooltip": null,
            "disabled": false,
            "layout": "IPY_MODEL_a2eaa5436a5a4bf8988d4b2a9c62b109",
            "max": 10,
            "min": 1,
            "orientation": "horizontal",
            "readout": true,
            "readout_format": "d",
            "step": 1,
            "style": "IPY_MODEL_dbebdb1798ff440e8227f43f29e37858",
            "value": 2
          }
        },
        "a2eaa5436a5a4bf8988d4b2a9c62b109": {
          "model_module": "@jupyter-widgets/base",
          "model_name": "LayoutModel",
          "model_module_version": "1.2.0",
          "state": {
            "_model_module": "@jupyter-widgets/base",
            "_model_module_version": "1.2.0",
            "_model_name": "LayoutModel",
            "_view_count": null,
            "_view_module": "@jupyter-widgets/base",
            "_view_module_version": "1.2.0",
            "_view_name": "LayoutView",
            "align_content": null,
            "align_items": null,
            "align_self": null,
            "border": null,
            "bottom": null,
            "display": null,
            "flex": null,
            "flex_flow": null,
            "grid_area": null,
            "grid_auto_columns": null,
            "grid_auto_flow": null,
            "grid_auto_rows": null,
            "grid_column": null,
            "grid_gap": null,
            "grid_row": null,
            "grid_template_areas": null,
            "grid_template_columns": null,
            "grid_template_rows": null,
            "height": null,
            "justify_content": null,
            "justify_items": null,
            "left": null,
            "margin": null,
            "max_height": null,
            "max_width": null,
            "min_height": null,
            "min_width": null,
            "object_fit": null,
            "object_position": null,
            "order": null,
            "overflow": null,
            "overflow_x": null,
            "overflow_y": null,
            "padding": null,
            "right": null,
            "top": null,
            "visibility": null,
            "width": null
          }
        },
        "dbebdb1798ff440e8227f43f29e37858": {
          "model_module": "@jupyter-widgets/controls",
          "model_name": "SliderStyleModel",
          "model_module_version": "1.5.0",
          "state": {
            "_model_module": "@jupyter-widgets/controls",
            "_model_module_version": "1.5.0",
            "_model_name": "SliderStyleModel",
            "_view_count": null,
            "_view_module": "@jupyter-widgets/base",
            "_view_module_version": "1.2.0",
            "_view_name": "StyleView",
            "description_width": "",
            "handle_color": null
          }
        },
        "c749d3c6127543feafacd1b4c858f448": {
          "model_module": "@jupyter-widgets/controls",
          "model_name": "DropdownModel",
          "model_module_version": "1.5.0",
          "state": {
            "_dom_classes": [],
            "_model_module": "@jupyter-widgets/controls",
            "_model_module_version": "1.5.0",
            "_model_name": "DropdownModel",
            "_options_labels": [
              "Compra do mês",
              "Compra quinzenal",
              "Compra da semana"
            ],
            "_view_count": null,
            "_view_module": "@jupyter-widgets/controls",
            "_view_module_version": "1.5.0",
            "_view_name": "DropdownView",
            "description": "Duração:",
            "description_tooltip": null,
            "disabled": false,
            "index": 2,
            "layout": "IPY_MODEL_ddbe7590452f41488287722d29b57f22",
            "style": "IPY_MODEL_f8d9f9c2078f4dcd9d22bdc891d28233"
          }
        },
        "ddbe7590452f41488287722d29b57f22": {
          "model_module": "@jupyter-widgets/base",
          "model_name": "LayoutModel",
          "model_module_version": "1.2.0",
          "state": {
            "_model_module": "@jupyter-widgets/base",
            "_model_module_version": "1.2.0",
            "_model_name": "LayoutModel",
            "_view_count": null,
            "_view_module": "@jupyter-widgets/base",
            "_view_module_version": "1.2.0",
            "_view_name": "LayoutView",
            "align_content": null,
            "align_items": null,
            "align_self": null,
            "border": null,
            "bottom": null,
            "display": null,
            "flex": null,
            "flex_flow": null,
            "grid_area": null,
            "grid_auto_columns": null,
            "grid_auto_flow": null,
            "grid_auto_rows": null,
            "grid_column": null,
            "grid_gap": null,
            "grid_row": null,
            "grid_template_areas": null,
            "grid_template_columns": null,
            "grid_template_rows": null,
            "height": null,
            "justify_content": null,
            "justify_items": null,
            "left": null,
            "margin": null,
            "max_height": null,
            "max_width": null,
            "min_height": null,
            "min_width": null,
            "object_fit": null,
            "object_position": null,
            "order": null,
            "overflow": null,
            "overflow_x": null,
            "overflow_y": null,
            "padding": null,
            "right": null,
            "top": null,
            "visibility": null,
            "width": null
          }
        },
        "f8d9f9c2078f4dcd9d22bdc891d28233": {
          "model_module": "@jupyter-widgets/controls",
          "model_name": "DescriptionStyleModel",
          "model_module_version": "1.5.0",
          "state": {
            "_model_module": "@jupyter-widgets/controls",
            "_model_module_version": "1.5.0",
            "_model_name": "DescriptionStyleModel",
            "_view_count": null,
            "_view_module": "@jupyter-widgets/base",
            "_view_module_version": "1.2.0",
            "_view_name": "StyleView",
            "description_width": ""
          }
        },
        "800fc34d465940af94475d6739f2ccc3": {
          "model_module": "@jupyter-widgets/controls",
          "model_name": "SelectMultipleModel",
          "model_module_version": "1.5.0",
          "state": {
            "_dom_classes": [],
            "_model_module": "@jupyter-widgets/controls",
            "_model_module_version": "1.5.0",
            "_model_name": "SelectMultipleModel",
            "_options_labels": [
              "Nenhuma restrição",
              "Sem glúten",
              "Sem lactose",
              "Vegetariano",
              "Vegano"
            ],
            "_view_count": null,
            "_view_module": "@jupyter-widgets/controls",
            "_view_module_version": "1.5.0",
            "_view_name": "SelectMultipleView",
            "description": "Restrições:",
            "description_tooltip": null,
            "disabled": false,
            "index": [
              0
            ],
            "layout": "IPY_MODEL_0c8d93285edc4ac1a15a7e3238d76116",
            "rows": 5,
            "style": "IPY_MODEL_eec6a88c62e24a718a57f186fb1c0bfa"
          }
        },
        "0c8d93285edc4ac1a15a7e3238d76116": {
          "model_module": "@jupyter-widgets/base",
          "model_name": "LayoutModel",
          "model_module_version": "1.2.0",
          "state": {
            "_model_module": "@jupyter-widgets/base",
            "_model_module_version": "1.2.0",
            "_model_name": "LayoutModel",
            "_view_count": null,
            "_view_module": "@jupyter-widgets/base",
            "_view_module_version": "1.2.0",
            "_view_name": "LayoutView",
            "align_content": null,
            "align_items": null,
            "align_self": null,
            "border": null,
            "bottom": null,
            "display": null,
            "flex": null,
            "flex_flow": null,
            "grid_area": null,
            "grid_auto_columns": null,
            "grid_auto_flow": null,
            "grid_auto_rows": null,
            "grid_column": null,
            "grid_gap": null,
            "grid_row": null,
            "grid_template_areas": null,
            "grid_template_columns": null,
            "grid_template_rows": null,
            "height": null,
            "justify_content": null,
            "justify_items": null,
            "left": null,
            "margin": null,
            "max_height": null,
            "max_width": null,
            "min_height": null,
            "min_width": null,
            "object_fit": null,
            "object_position": null,
            "order": null,
            "overflow": null,
            "overflow_x": null,
            "overflow_y": null,
            "padding": null,
            "right": null,
            "top": null,
            "visibility": null,
            "width": null
          }
        },
        "eec6a88c62e24a718a57f186fb1c0bfa": {
          "model_module": "@jupyter-widgets/controls",
          "model_name": "DescriptionStyleModel",
          "model_module_version": "1.5.0",
          "state": {
            "_model_module": "@jupyter-widgets/controls",
            "_model_module_version": "1.5.0",
            "_model_name": "DescriptionStyleModel",
            "_view_count": null,
            "_view_module": "@jupyter-widgets/base",
            "_view_module_version": "1.2.0",
            "_view_name": "StyleView",
            "description_width": ""
          }
        },
        "080dbaf529ef4950b6b9fb4cd7de9117": {
          "model_module": "@jupyter-widgets/controls",
          "model_name": "SelectMultipleModel",
          "model_module_version": "1.5.0",
          "state": {
            "_dom_classes": [],
            "_model_module": "@jupyter-widgets/controls",
            "_model_module_version": "1.5.0",
            "_model_name": "SelectMultipleModel",
            "_options_labels": [
              "Café da manhã",
              "Almoço",
              "Jantar"
            ],
            "_view_count": null,
            "_view_module": "@jupyter-widgets/controls",
            "_view_module_version": "1.5.0",
            "_view_name": "SelectMultipleView",
            "description": "Refeições em Casa:",
            "description_tooltip": null,
            "disabled": false,
            "index": [
              0,
              2
            ],
            "layout": "IPY_MODEL_5f7ba681e1a146aa88fca64bd7c74c7a",
            "rows": 5,
            "style": "IPY_MODEL_a5e813e34593499f93143e58621a48cc"
          }
        },
        "5f7ba681e1a146aa88fca64bd7c74c7a": {
          "model_module": "@jupyter-widgets/base",
          "model_name": "LayoutModel",
          "model_module_version": "1.2.0",
          "state": {
            "_model_module": "@jupyter-widgets/base",
            "_model_module_version": "1.2.0",
            "_model_name": "LayoutModel",
            "_view_count": null,
            "_view_module": "@jupyter-widgets/base",
            "_view_module_version": "1.2.0",
            "_view_name": "LayoutView",
            "align_content": null,
            "align_items": null,
            "align_self": null,
            "border": null,
            "bottom": null,
            "display": null,
            "flex": null,
            "flex_flow": null,
            "grid_area": null,
            "grid_auto_columns": null,
            "grid_auto_flow": null,
            "grid_auto_rows": null,
            "grid_column": null,
            "grid_gap": null,
            "grid_row": null,
            "grid_template_areas": null,
            "grid_template_columns": null,
            "grid_template_rows": null,
            "height": null,
            "justify_content": null,
            "justify_items": null,
            "left": null,
            "margin": null,
            "max_height": null,
            "max_width": null,
            "min_height": null,
            "min_width": null,
            "object_fit": null,
            "object_position": null,
            "order": null,
            "overflow": null,
            "overflow_x": null,
            "overflow_y": null,
            "padding": null,
            "right": null,
            "top": null,
            "visibility": null,
            "width": null
          }
        },
        "a5e813e34593499f93143e58621a48cc": {
          "model_module": "@jupyter-widgets/controls",
          "model_name": "DescriptionStyleModel",
          "model_module_version": "1.5.0",
          "state": {
            "_model_module": "@jupyter-widgets/controls",
            "_model_module_version": "1.5.0",
            "_model_name": "DescriptionStyleModel",
            "_view_count": null,
            "_view_module": "@jupyter-widgets/base",
            "_view_module_version": "1.2.0",
            "_view_name": "StyleView",
            "description_width": ""
          }
        },
        "30a03f2e9f704ca4a66b6861ef4248b9": {
          "model_module": "@jupyter-widgets/controls",
          "model_name": "ButtonModel",
          "model_module_version": "1.5.0",
          "state": {
            "_dom_classes": [],
            "_model_module": "@jupyter-widgets/controls",
            "_model_module_version": "1.5.0",
            "_model_name": "ButtonModel",
            "_view_count": null,
            "_view_module": "@jupyter-widgets/controls",
            "_view_module_version": "1.5.0",
            "_view_name": "ButtonView",
            "button_style": "",
            "description": "Selecionar Imagem",
            "disabled": false,
            "icon": "",
            "layout": "IPY_MODEL_7f0c9976e9314bd9a06fb1f26ff6610a",
            "style": "IPY_MODEL_57d41ba37efd4c09a32168f80a192226",
            "tooltip": ""
          }
        },
        "7f0c9976e9314bd9a06fb1f26ff6610a": {
          "model_module": "@jupyter-widgets/base",
          "model_name": "LayoutModel",
          "model_module_version": "1.2.0",
          "state": {
            "_model_module": "@jupyter-widgets/base",
            "_model_module_version": "1.2.0",
            "_model_name": "LayoutModel",
            "_view_count": null,
            "_view_module": "@jupyter-widgets/base",
            "_view_module_version": "1.2.0",
            "_view_name": "LayoutView",
            "align_content": null,
            "align_items": null,
            "align_self": null,
            "border": null,
            "bottom": null,
            "display": null,
            "flex": null,
            "flex_flow": null,
            "grid_area": null,
            "grid_auto_columns": null,
            "grid_auto_flow": null,
            "grid_auto_rows": null,
            "grid_column": null,
            "grid_gap": null,
            "grid_row": null,
            "grid_template_areas": null,
            "grid_template_columns": null,
            "grid_template_rows": null,
            "height": null,
            "justify_content": null,
            "justify_items": null,
            "left": null,
            "margin": null,
            "max_height": null,
            "max_width": null,
            "min_height": null,
            "min_width": null,
            "object_fit": null,
            "object_position": null,
            "order": null,
            "overflow": null,
            "overflow_x": null,
            "overflow_y": null,
            "padding": null,
            "right": null,
            "top": null,
            "visibility": null,
            "width": null
          }
        },
        "57d41ba37efd4c09a32168f80a192226": {
          "model_module": "@jupyter-widgets/controls",
          "model_name": "ButtonStyleModel",
          "model_module_version": "1.5.0",
          "state": {
            "_model_module": "@jupyter-widgets/controls",
            "_model_module_version": "1.5.0",
            "_model_name": "ButtonStyleModel",
            "_view_count": null,
            "_view_module": "@jupyter-widgets/base",
            "_view_module_version": "1.2.0",
            "_view_name": "StyleView",
            "button_color": null,
            "font_weight": ""
          }
        }
      }
    }
  },
  "cells": [
    {
      "cell_type": "markdown",
      "metadata": {
        "id": "view-in-github",
        "colab_type": "text"
      },
      "source": [
        "<a href=\"https://colab.research.google.com/github/enricolopesmarques/Projeto_Imersao_IA_Alura/blob/main/IA_Assistente_Compras_Multimodal.ipynb\" target=\"_parent\"><img src=\"https://colab.research.google.com/assets/colab-badge.svg\" alt=\"Open In Colab\"/></a>"
      ]
    },
    {
      "cell_type": "code",
      "source": [
        "!pip install -q -U ipywidgets\n",
        "!pip install -q -U google.generativeai"
      ],
      "metadata": {
        "colab": {
          "base_uri": "https://localhost:8080/"
        },
        "id": "s0ZAQXzTECnn",
        "outputId": "431fc97c-d950-4b00-dfc3-5853484dfa8b"
      },
      "execution_count": null,
      "outputs": [
        {
          "output_type": "stream",
          "name": "stdout",
          "text": [
            "\u001b[2K     \u001b[90m━━━━━━━━━━━━━━━━━━━━━━━━━━━━━━━━━━━━━━━━\u001b[0m \u001b[32m139.4/139.4 kB\u001b[0m \u001b[31m3.1 MB/s\u001b[0m eta \u001b[36m0:00:00\u001b[0m\n",
            "\u001b[2K     \u001b[90m━━━━━━━━━━━━━━━━━━━━━━━━━━━━━━━━━━━━━━━━\u001b[0m \u001b[32m2.3/2.3 MB\u001b[0m \u001b[31m11.4 MB/s\u001b[0m eta \u001b[36m0:00:00\u001b[0m\n",
            "\u001b[2K     \u001b[90m━━━━━━━━━━━━━━━━━━━━━━━━━━━━━━━━━━━━━━━━\u001b[0m \u001b[32m1.6/1.6 MB\u001b[0m \u001b[31m16.3 MB/s\u001b[0m eta \u001b[36m0:00:00\u001b[0m\n",
            "\u001b[?25h"
          ]
        }
      ]
    },
    {
      "cell_type": "code",
      "execution_count": 2,
      "metadata": {
        "colab": {
          "base_uri": "https://localhost:8080/",
          "height": 928,
          "referenced_widgets": [
            "bd7c34867865400b8d9d5c5a25239c15",
            "a2eaa5436a5a4bf8988d4b2a9c62b109",
            "dbebdb1798ff440e8227f43f29e37858",
            "c749d3c6127543feafacd1b4c858f448",
            "ddbe7590452f41488287722d29b57f22",
            "f8d9f9c2078f4dcd9d22bdc891d28233",
            "800fc34d465940af94475d6739f2ccc3",
            "0c8d93285edc4ac1a15a7e3238d76116",
            "eec6a88c62e24a718a57f186fb1c0bfa",
            "080dbaf529ef4950b6b9fb4cd7de9117",
            "5f7ba681e1a146aa88fca64bd7c74c7a",
            "a5e813e34593499f93143e58621a48cc",
            "30a03f2e9f704ca4a66b6861ef4248b9",
            "7f0c9976e9314bd9a06fb1f26ff6610a",
            "57d41ba37efd4c09a32168f80a192226"
          ]
        },
        "id": "upiKjq6gDpv4",
        "outputId": "87fd58c2-5bf7-46cb-92a4-7b3de6cb9cfc"
      },
      "outputs": [
        {
          "output_type": "stream",
          "name": "stdout",
          "text": [
            "-=-=-=-=-=-=-=-=-=-=-=-=-=-=-=-=-=-=-=-=-=-=-=-=-=-=-=-=-=-=-=-=-=-=-=-=-=-=-=-=-=-=-=-=-=\n",
            "------------------------- ASSISTENTE DE COMPRAS DE SUPERMERCADO --------------------------\n",
            "-=-=-=-=-=-=-=-=-=-=-=-=-=-=-=-=-=-=-=-=-=-=-=-=-=-=-=-=-=-=-=-=-=-=-=-=-=-=-=-=-=-=-=-=-=\n",
            "Bem vindo ao Assistente de Compras Inteligente!\n",
            "\n",
            "Com esta ferramenta, você pode criar listas de compras personalizadas em segundos.\n",
            "Nosso sistema inteligente, integrado com a IA do Google Gemini, gera uma lista completa:\n",
            "- Segmentada por categoria para facilitar a localização dos produtos no supermercado.\n",
            "- Quantidades adequadas para evitar desperdícios\n",
            "- Consideração das suas restrições alimentares e preferências\n",
            "\n",
            "Para isso vou precisar apenas de algumas informações.\n",
            "------------------------------------------------------------------------------------------\n",
            "\n",
            "A compra será para quantas pessoas?\n"
          ]
        },
        {
          "output_type": "display_data",
          "data": {
            "text/plain": [
              "IntSlider(value=1, description='Nº Pessoas:', max=10, min=1)"
            ],
            "application/vnd.jupyter.widget-view+json": {
              "version_major": 2,
              "version_minor": 0,
              "model_id": "bd7c34867865400b8d9d5c5a25239c15"
            }
          },
          "metadata": {}
        },
        {
          "output_type": "stream",
          "name": "stdout",
          "text": [
            "\n",
            "Para qual período você quer realizar a sua compra?\n"
          ]
        },
        {
          "output_type": "display_data",
          "data": {
            "text/plain": [
              "Dropdown(description='Duração:', options=('Compra do mês', 'Compra quinzenal', 'Compra da semana'), value='Com…"
            ],
            "application/vnd.jupyter.widget-view+json": {
              "version_major": 2,
              "version_minor": 0,
              "model_id": "c749d3c6127543feafacd1b4c858f448"
            }
          },
          "metadata": {}
        },
        {
          "output_type": "stream",
          "name": "stdout",
          "text": [
            "\n",
            "Você possui alguma restrição alimentar? (segure CTRL E CLIQUE para selecionar mais de uma opção)\n"
          ]
        },
        {
          "output_type": "display_data",
          "data": {
            "text/plain": [
              "SelectMultiple(description='Restrições:', options=('Nenhuma restrição', 'Sem glúten', 'Sem lactose', 'Vegetari…"
            ],
            "application/vnd.jupyter.widget-view+json": {
              "version_major": 2,
              "version_minor": 0,
              "model_id": "800fc34d465940af94475d6739f2ccc3"
            }
          },
          "metadata": {}
        },
        {
          "output_type": "stream",
          "name": "stdout",
          "text": [
            "\n",
            "Quantas refeições você faz em casa? (segure CTRL E CLIQUE para selecionar mais de uma opção)\n"
          ]
        },
        {
          "output_type": "display_data",
          "data": {
            "text/plain": [
              "SelectMultiple(description='Refeições em Casa:', options=('Café da manhã', 'Almoço', 'Jantar'), value=())"
            ],
            "application/vnd.jupyter.widget-view+json": {
              "version_major": 2,
              "version_minor": 0,
              "model_id": "080dbaf529ef4950b6b9fb4cd7de9117"
            }
          },
          "metadata": {}
        },
        {
          "output_type": "stream",
          "name": "stdout",
          "text": [
            "\n",
            "Você é alérgico a algum alimento? [S/N]: N\n",
            "------------------------------------------------------------------------------------------\n",
            "\n",
            "Eu consigo analisar uma imagem da sua dispensa ou geladeira e desconsiderar os produtos que você já tem em casa na geração da lista de compras.\n",
            "\n",
            "Deseja usar essa funcionalidade? [S/N]: S\n",
            "\n",
            "------------------------------------------------------------------------------------------\n",
            "Para que eu consiga analisar com mais precisão faça o upload de uma imagem com boa iluminação e que apareça todos os produtos de forma clara.\n",
            "\n",
            "Clique no botão abaixo para fazer o upload\n",
            "\n"
          ]
        },
        {
          "output_type": "display_data",
          "data": {
            "text/plain": [
              "Button(description='Selecionar Imagem', style=ButtonStyle())"
            ],
            "application/vnd.jupyter.widget-view+json": {
              "version_major": 2,
              "version_minor": 0,
              "model_id": "30a03f2e9f704ca4a66b6861ef4248b9"
            }
          },
          "metadata": {}
        }
      ],
      "source": [
        "# Importa as bibliotecas utilizadas no programa\n",
        "import ipywidgets as widgets # --> Inerface gráfica no terminal\n",
        "import google.generativeai as genai # --> Importa o Gemini e cria apelido que facilita a digitação\n",
        "import pathlib # --> Otimiza a funcionalidade de trabalhar com caminhos de arquivos\n",
        "import textwrap # --> Auxilia na formatação de textos\n",
        "import PIL.Image # --> Habilita a funcionalidade de trabalhar com imagens\n",
        "from IPython.display import display\n",
        "from google.colab import files # --> Habilita a funcionalidade de importação de arquivos\n",
        "\n",
        "# Responsável por associar a chave API de forma segura pelo Colab Secrets (COLE A SUA API KEY NO CÓDIGO ABAIXO!)\n",
        "from google.colab import userdata\n",
        "GOOGLE_API_KEY=userdata.get('GOOGLE_API_KEY')\n",
        "genai.configure(api_key=GOOGLE_API_KEY)\n",
        "\n",
        "from IPython.display import display\n",
        "from IPython.display import Markdown\n",
        "\n",
        "#Atibui a variável 'model' o modelo de IA escolhido\n",
        "model = genai.GenerativeModel(model_name='gemini-1.5-pro-latest')\n",
        "\n",
        "# Apresentação do sistema e explicações iniciais\n",
        "print('-='*45)\n",
        "print(f'{\" ASSISTENTE DE COMPRAS DE SUPERMERCADO \":-^90}')\n",
        "print('-='*45)\n",
        "print('Bem vindo ao Assistente de Compras Inteligente!')\n",
        "print()\n",
        "print('''Com esta ferramenta, você pode criar listas de compras personalizadas em segundos.\n",
        "Nosso sistema inteligente, integrado com a IA do Google Gemini, gera uma lista completa:\n",
        "- Segmentada por categoria para facilitar a localização dos produtos no supermercado.\n",
        "- Quantidades adequadas para evitar desperdícios\n",
        "- Consideração das suas restrições alimentares e preferências''')\n",
        "print()\n",
        "print('Para isso vou precisar apenas de algumas informações.')\n",
        "print('-'*90)\n",
        "\n",
        "\n",
        "def to_markdown(text):\n",
        "    text = text.replace('•', '  *')\n",
        "    return Markdown(textwrap.indent(text, '> ', predicate=lambda _: True))\n",
        "\n",
        "# Função para upload da imagem\n",
        "def upload_imagem(botao):\n",
        "  global imagem_carregada # Declarar a variável como global\n",
        "  uploaded = files.upload()\n",
        "  for nome_arquivo in uploaded.keys():\n",
        "    print()\n",
        "    print(f\"Imagem '{nome_arquivo}' carregada com sucesso!\")\n",
        "    # Abrir a imagem e armazenar na variável global\n",
        "    imagem_carregada = PIL.Image.open(nome_arquivo)\n",
        "    print()\n",
        "    print('Clique para gerar a lista de Compras: ')\n",
        "    display(botao_enviar_com_imagem)\n",
        "\n",
        "def prompt_com_imagem(botao):\n",
        "  print()\n",
        "  print('Aguarde alguns segundos, estou analisando as suas informações e gerando a melhor lista de compras pra você...')\n",
        "  print()\n",
        "\n",
        "  # coleta os dados dos widgets\n",
        "  num_pessoas = num_pessoas_widget.value\n",
        "  duracao = duracao_widget.value\n",
        "  restricoes = restricoes_widget.value\n",
        "  alergia = alergia_alimentos\n",
        "  refeicoes = refeicoes_widget.value\n",
        "\n",
        "  prompt = (f'''Analise a imagem, liste os produtos e quantidade. Considerandos os produtos que identificar como o meu estoque,\n",
        "Gere uma lista de compras para uma família de {num_pessoas} pessoas para uma {duracao}\n",
        "desconsiderando os produtos que eu já tenho em estoque (imagem) para evitar desperdícios.\n",
        "\n",
        "A lista deve considerar também os critérios abaixo\n",
        "\n",
        "Restrições alimentares: {restricoes}\n",
        "Alergia: {alergia}\n",
        "\n",
        "Hábitos:\n",
        "* Refeições em casa: {refeicoes}\n",
        "\n",
        "Formato da lista:\n",
        "* Agrupar itens por categoria (frutas, verduras, laticínios, etc.)\n",
        "* Especificar quantidades para cada item.''')\n",
        "\n",
        "  # Preenche o prompt com os inputs do usuário\n",
        "  response = model.generate_content([imagem_carregada, prompt])\n",
        "\n",
        "  #Exibe a lista gerada pela IA\n",
        "  print()\n",
        "  display(to_markdown(response.text))\n",
        "\n",
        "# Função que é chamada quando o botão de Gerar Lista é clicado.\n",
        "def enviar_dados(sender):\n",
        "  print()\n",
        "  print('Aguarde alguns segundos, estou analisando as suas informações e gerando a melhor lista de compras pra você...')\n",
        "  print()\n",
        "\n",
        "  # coleta os dados dos widgets\n",
        "  num_pessoas = num_pessoas_widget.value\n",
        "  duracao = duracao_widget.value\n",
        "  restricoes = restricoes_widget.value\n",
        "  alergia = alergia_alimentos\n",
        "  refeicoes = refeicoes_widget.value\n",
        "\n",
        "  prompt = (f'''Gere uma lista de compras para uma família de {num_pessoas} pessoas para uma {duracao}\n",
        "\n",
        "Restrições alimentares: {restricoes}\n",
        "Alergia: {alergia}\n",
        "\n",
        "Hábitos:\n",
        "* Refeições em casa: {refeicoes}\n",
        "\n",
        "Formato da lista:\n",
        "* Agrupar itens por categoria (frutas, verduras, laticínios, etc.)\n",
        "* Especificar quantidades para cada item.''')\n",
        "\n",
        "  # Preenche o prompt com os inputs do usuário\n",
        "  response = model.generate_content(prompt)\n",
        "\n",
        "  #Exibe a lista gerada pela IA\n",
        "  print()\n",
        "  display(to_markdown(response.text))\n",
        "\n",
        "\n",
        "\n",
        "# Configuração dos Widgets que coletam informações\n",
        "num_pessoas_widget = widgets.IntSlider(min=1, max=10, description=\"Nº Pessoas:\")\n",
        "duracao_widget = widgets.Dropdown(\n",
        "    options=[\"Compra do mês\", \"Compra quinzenal\", \"Compra da semana\"],\n",
        "    description=\"Duração:\")\n",
        "\n",
        "restricoes_widget = widgets.SelectMultiple(\n",
        "    options=[\"Nenhuma restrição\",\"Sem glúten\", \"Sem lactose\", \"Vegetariano\", \"Vegano\"],\n",
        "    description=\"Restrições:\")\n",
        "\n",
        "refeicoes_widget = widgets.SelectMultiple(\n",
        "    options=[\"Café da manhã\", \"Almoço\",\"Jantar\"],\n",
        "    description=\"Refeições em Casa:\",)\n",
        "\n",
        "alergia_widget = widgets.Dropdown(\n",
        "    options=[\"Compra do mês\", \"Compra quinzenal\", \"Compra da semana\"],\n",
        "    description=\"Duração:\")\n",
        "\n",
        "# Configuração do Botão que coleta as informações e armazena nas variáveis\n",
        "botao_enviar = widgets.Button(description=\"Gerar Lista\")\n",
        "botao_enviar.on_click(enviar_dados)\n",
        "\n",
        "# Criar botão para upload\n",
        "botao_upload = widgets.Button(description=\"Selecionar Imagem\")\n",
        "botao_upload.on_click(upload_imagem)\n",
        "\n",
        "# Botão que envia a imagem para o Gemini\n",
        "botao_enviar_com_imagem = widgets.Button(description=\"Gerar Lista\")\n",
        "botao_enviar_com_imagem.on_click(prompt_com_imagem)\n",
        "\n",
        "# Exibição dos widgets\n",
        "print()\n",
        "print('A compra será para quantas pessoas?')\n",
        "display(num_pessoas_widget)\n",
        "print()\n",
        "print('Para qual período você quer realizar a sua compra?')\n",
        "display(duracao_widget)\n",
        "print()\n",
        "print('Você possui alguma restrição alimentar? (segure CTRL E CLIQUE para selecionar mais de uma opção)')\n",
        "display(restricoes_widget)\n",
        "print()\n",
        "print('Quantas refeições você faz em casa? (segure CTRL E CLIQUE para selecionar mais de uma opção)')\n",
        "display(refeicoes_widget)\n",
        "print()\n",
        "\n",
        "alergia_input = str(input(f\"{'Você é alérgico a algum alimento? [S/N]: ':<10}\")).strip().upper()[0]\n",
        "while alergia_input not in 'SN':\n",
        "  print()\n",
        "  alergia_input = str(input(f\"{'Valor inválido, digite [S ou N]: ':<10}\")).strip().upper()[0]\n",
        "if alergia_input == 'S':\n",
        "  print()\n",
        "  alergia_alimentos = str(input(f\"{'A quais alimentos você é alérgico? (adicione uma lista de alimentos separada por vírgula): ':<10}\"))\n",
        "if alergia_input == 'N':\n",
        "  alergia_alimentos = 'Nenhuma alergia a alimentos específicos'\n",
        "print('-'*90)\n",
        "print()\n",
        "print('''Eu consigo analisar uma imagem da sua dispensa ou geladeira e desconsiderar os produtos que você já tem em casa na geração da lista de compras.''')\n",
        "print()\n",
        "usa_imagem = str(input('Deseja usar essa funcionalidade? [S/N]: ')).strip().upper()[0]\n",
        "while usa_imagem not in 'SN':\n",
        "  usa_imagem == str(input('Valor inválido, escolha uma opção válida [S ou N]: ')).strip().upper()[0]\n",
        "if usa_imagem == 'S':\n",
        "  print()\n",
        "  print('-'*90)\n",
        "  print('Para que eu consiga analisar com mais precisão faça o upload de uma imagem com boa iluminação e que apareça todos os produtos de forma clara.')\n",
        "  print()\n",
        "  print('Clique no botão abaixo para fazer o upload')\n",
        "  print()\n",
        "  display(botao_upload)\n",
        "if usa_imagem == 'N':\n",
        "  # Exibição do botão que Gera a Lista\n",
        "  print()\n",
        "  print('-'*90)\n",
        "  display(botao_enviar)"
      ]
    }
  ]
}